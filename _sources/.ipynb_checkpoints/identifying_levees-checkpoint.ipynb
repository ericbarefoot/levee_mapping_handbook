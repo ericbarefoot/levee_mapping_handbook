{
 "cells": [
  {
   "cell_type": "markdown",
   "id": "1d006032-cbe4-4f17-a8e1-703d45c98197",
   "metadata": {},
   "source": [
    "# Identifying natural river levees in lidar\n",
    "\n",
    "Our main task that we would like you to accomplish is to use your eyes and pattern recognition capabilities to identify natural river levees in high-resolution topography data. To do this, it will be imperative that you visualize and evaluate the data in a consistent way, so that our evaluations are all based on the same methodology. \n",
    "\n",
    "## Visualizing high-resolution topography\n",
    "\n",
    "See [**this section**](visualizing_REMs) on the [data entry](data_entry) page.\n",
    "\n",
    "This method of visualizing the topography will reveal all kinds of things to you. \n",
    "\n",
    "## Our definition of natural levees\n",
    "\n",
    "Broadly speaking, we are defining levees as a raised ridge of topography near the river channel, regardless of how it got there. That is to say, if the topography is higher near the river than it is further away on average, then we would consider a levee to be *present*. In general, we would like you to make your determinations of levy presence or absence based on the full two-dimensional view of the topography.\n",
    "\n",
    "## Making a determination\n",
    "\n",
    "Some of these heuristics you will use to identify levees will depend a little bit on what kind of color map you choose when you are working with the data. Generally speaking I tend to choose color maps where dark values represent low elevations and light values represent high elevation. In this framework, levees mostly appear as pale or lighter zones that surround a river channel, which is usually darker than the surrounding floodplain. That said, levees can vary widely in their texture, scale (size), and slope. Levies can be oriented perpendicular to the channel, oblique to the channel, and they can point up or downstream. Sometimes they look like little river deltas covered in small channels on top of them, and sometimes they are quite smooth. Here is an examples of levees on a river that are clear and present:\n",
    "\n",
    "![](screenshots/levee_example.png)\n",
    "\n",
    "In this picture, note that the river channel itself is black, so low topography is represented by dark colors, and high topography is represented by light blue colors. On both sides of the channel one can see what appear sort of like halos, or bright bands of elevated topography situated on either side of the river. The levees have some texture, that is if you look closely some of them have small channels cutting across the riverbank. In addition the floodplain itself is not very flat, there are in fact lots of ridges and swales which make the surface topography pretty complicated. We are only interested in the area immediately surrounding channel, and so you will have to use your judgment as to what is \"near\" the channel and what is \"far away.\"\n",
    "\n",
    "You will note that river levees are not continuous on either side of the river in fact, in this example, there are several gaps. Here's the same image, but I've annotated where I think levees are present in white, and where they are absent in red. \n",
    "\n",
    "![](screenshots/levee_example_annotate.png)\n",
    "\n",
    "So, for this example a natural levee is present on either side of the river over most of the length that I have shown in this image. If this was all we had to work with, then we would say that at any given point along the river you are very likely to find a natural levee on either bank of the river. Thus, the levees are **\"abundant\"** here. \n",
    "\n",
    "Here is another example from a different river, where once again the topography near the river channel is pretty complicated. \n",
    "\n",
    "![](screenshots/sparse_levees.png)\n",
    "\n",
    "In this case, because the topography is so complicated and any ridges near the channels may be oriented at different angles to the river, They often do not appear as ridges of high topography adjacent to the channel that parallel the channel. In a few places you can see levy's that parallel the channel and are clear examples of high topography near the channel. However they don't make up the majority of the topography and landforms at the margins of the channel. Thus in this case, the mapper indicated that levees are **\"sparse\"** here.\n",
    "\n",
    "## Reporting confidence and ambiguity.\n",
    "\n",
    "If you look at this image, and disagree with what that previous mapper assessed, I think that would be totally reasonable. In this case, the decision about whether levees are abundant or sparse is a bit ambiguous. To represent this, you might note a lower confidence in your assessment, (see how in [the data entry page](data_entry)). In general, if levees are unambiguously flanking the river everywhere, then rate your assessment with high confidence. If you are not certain whether you see levees on more or less than 50% of the channel, mark a lower confidence level (medium or low). If the floodplain topography is quite complicated (like in the image above) and identifying levees is just plain hard, you might note that and give a lower confidence level as well. \n",
    "\n",
    "## Leverage group expertise\n",
    "\n",
    "If you are not certain about your assessment of a particular reach, or you feel like you need some help identifying levees from the lidar data, **ask for help!** These landforms are enigmatic, and they defy unambiguous classification. You will have to train yourself to have a [\"search image\"]() for levees. Luckily, there is a team of people who have been doing this, so leverage the expertise of your teammates. \n",
    "\n",
    "```{admonition} Chain of appeal\n",
    ":class: note\n",
    "If you are uncertain about your assessment for a given river reach, first ask your fellow mappers. If the two of you do not agree, or are still uncertain, then ask [Eric](mailto:ebarefoo@iu.edu) for advice, if all of us together are uncertain, we will involve Doug.\n",
    "``\n"
   ]
  }
 ],
 "metadata": {
  "kernelspec": {
   "display_name": "Python 3 (ipykernel)",
   "language": "python",
   "name": "python3"
  },
  "language_info": {
   "codemirror_mode": {
    "name": "ipython",
    "version": 3
   },
   "file_extension": ".py",
   "mimetype": "text/x-python",
   "name": "python",
   "nbconvert_exporter": "python",
   "pygments_lexer": "ipython3",
   "version": "3.11.1"
  }
 },
 "nbformat": 4,
 "nbformat_minor": 5
}
