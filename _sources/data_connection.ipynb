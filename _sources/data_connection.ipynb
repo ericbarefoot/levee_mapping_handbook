{
 "cells": [
  {
   "cell_type": "markdown",
   "id": "5357ff75-ff9c-4031-8783-9313840b00c4",
   "metadata": {},
   "source": [
    "# Connecting to the data\n",
    "\n",
    "The amount of data that we will be working with in this project far exceeds what you can likely store and use on your local laptop or desktop computer. Instead of storing it locally we can store the data in a server, and then retrieve it and work with it on our local machine.\n",
    "\n",
    "At IU, this is very easy to do using the computing resources of the university, especially when computers are all connected to the network here on campus. If you intend to work on these projects off campus, then you will need to connect to the IU vpn. See [this article](https://kb.iu.edu/d/ajrq) for instructions on how to do that.\n",
    "\n",
    "Essentially, what we will be doing is establishing an internet connection to data stored on a remote server somewhere, and then telling the computer to pretend that those data are stored on our local machine. In particular, you'll be connecting to a data set stored on Slate-Project, a high-performance data storage resource available to researchers here at IU.\n",
    "\n",
    "To connect this data on your local machine, You will need to mount or map a remote drive to the Slate-Project space. To do this, follow the instructions in [this knowledge base article](https://kb.IU.edu/d/biid). You will need the name of our project space. Our project is called `gld`. Most of you will likely be using windows to map the drive. In that case, the address you would use is:\n",
    "\n",
    "```\n",
    "\\\\slate-smb-prd.uits.IU.edu\\gld\n",
    "```\n",
    "\n",
    "If you have followed the steps above (and have received a link to set up your account), and still get an error in connecting, [contact Eric](mailto:ebarefoo@iu.edu).\n",
    "\n",
    "The data that you will be working with is saved in the `data` folder. Each of the folders within `data` represents a random sample of the given river in the USA.\n",
    "\n",
    "If you open one of these folders, it should have a structure like this, where `XXXXXXXXXXXX` is a set of numbers:\n",
    "\n",
    "```\n",
    ".\n",
    "├── XXXXXXXXXXX_DYNAMIC_WORLD.tif\n",
    "├── XXXXXXXXXXX_FABDEM.tif\n",
    "├── XXXXXXXXXXX_GAI.tif\n",
    "├── XXXXXXXXXXX_HSI.tif\n",
    "├── bbox_XXXXXXXXXXX.geojson\n",
    "├── bounds_XXXXXXXXXXX.geojson\n",
    "├── centerline_XXXXXXXXXXX.geojson\n",
    "├── centerline_XXXXXXXXXXX_prj.geojson\n",
    "├── dem_XXXXXXXXXXX_prj_REM.tif\n",
    "├── dem_XXXXXXXXXXX_prj_river_pts.dbf\n",
    "├── dem_XXXXXXXXXXX_prj_river_pts.prj\n",
    "├── dem_XXXXXXXXXXX_prj_river_pts.shp\n",
    "├── dem_XXXXXXXXXXX_prj_river_pts.shx\n",
    "├── dem_XXXXXXXXXXX_prj.tif\n",
    "├── dem_XXXXXXXXXXX.tif\n",
    "├── dem_XXXXXXXXXXX.tiff\n",
    "│   ├── 08065b5ff9dc2d5a3cb729d93de18d66cf8941c66f28a18a7aedf372b5cda996.tiff\n",
    "|   ...\n",
    "│   └── f83599c9d617a83e70f9bc11d6344216f01f7b7b161b1610d133581732cc4f01.tiff\n",
    "├── dem_XXXXXXXXXXX.vrt\n",
    "├── flw_XXXXXXXXXXX.geojson\n",
    "└── nodes_XXXXXXXXXXX.geojson\n",
    "```"
   ]
  }
 ],
 "metadata": {
  "kernelspec": {
   "display_name": "Python 3 (ipykernel)",
   "language": "python",
   "name": "python3"
  },
  "language_info": {
   "codemirror_mode": {
    "name": "ipython",
    "version": 3
   },
   "file_extension": ".py",
   "mimetype": "text/x-python",
   "name": "python",
   "nbconvert_exporter": "python",
   "pygments_lexer": "ipython3",
   "version": "3.11.1"
  }
 },
 "nbformat": 4,
 "nbformat_minor": 5
}
