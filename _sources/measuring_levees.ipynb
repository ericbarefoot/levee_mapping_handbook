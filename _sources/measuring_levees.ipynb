{
 "cells": [
  {
   "cell_type": "markdown",
   "id": "9ad6f4d7-6553-4db0-9790-a06ecdbac517",
   "metadata": {},
   "source": [
    "# Measuring natural river levee dimensions\n",
    "\n",
    "Under construction...\n",
    "\n",
    "only work with river stretches that have previously been identified as \"abundantly\" or \"sparsely\" leveed.\n",
    "\n",
    "## Dividing the domain\n",
    "\n",
    "## Taking measurements\n",
    "\n",
    "Use WGS84 EPSG:4326\n",
    "\n",
    "## Data entry gotchas"
   ]
  }
 ],
 "metadata": {
  "kernelspec": {
   "display_name": "Python 3 (ipykernel)",
   "language": "python",
   "name": "python3"
  },
  "language_info": {
   "codemirror_mode": {
    "name": "ipython",
    "version": 3
   },
   "file_extension": ".py",
   "mimetype": "text/x-python",
   "name": "python",
   "nbconvert_exporter": "python",
   "pygments_lexer": "ipython3",
   "version": "3.11.1"
  }
 },
 "nbformat": 4,
 "nbformat_minor": 5
}
