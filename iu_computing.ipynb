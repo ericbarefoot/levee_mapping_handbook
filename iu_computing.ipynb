{
 "cells": [
  {
   "cell_type": "markdown",
   "id": "61f85350-f3b8-4e59-bfec-d2e1ea99bb51",
   "metadata": {},
   "source": [
    "# Computing accounts at IU\n",
    "\n",
    "If you are working on this project as part of a paid research position in our lab, then you should have been given access to a few computing resources at IU. The most important one for you to be familiar with is called Slate-Project. Slate-Project is basically a bucket on IU's high-performance Computing cluster that we can use to store large amounts of data and also access it quickly. However not everybody has the permissions to connect with this data, because otherwise somebody might accidentally delete it who wasn't supposed to. \n",
    "\n",
    "In your email you may have a message that says something like \"slate project account requested\" or similar. That email will contain some instructions for activating your account with Slate-Project. You basically need to go And accept a few terms and conditions to activate your account. \n",
    "\n",
    "It will look something like this:\n",
    "\n",
    "1. Go to [one.iu.edu](https://one.iu.edu/)\n",
    "2. Search for \"Create Additional Accounts\" and log in.\n",
    "3. On the screen, select the radio button for Slate-Project\n",
    "\n",
    "For example this is what the screen looks like for me. \n",
    "\n",
    "![image.png](screenshots/computing_accounts.png)\n",
    "\n",
    "Because I am eligible for an account on the supercomputer Big Red 200, but I have not activated that account, it shows up as an option in this menu. Once you have selected the right radio button click create account and within a few hours the account should be activated.\n",
    "\n",
    "You can learn more at [this](https://kb.iu.edu/d/achr) knowledge base article."
   ]
  }
 ],
 "metadata": {
  "kernelspec": {
   "display_name": "Python 3 (ipykernel)",
   "language": "python",
   "name": "python3"
  },
  "language_info": {
   "codemirror_mode": {
    "name": "ipython",
    "version": 3
   },
   "file_extension": ".py",
   "mimetype": "text/x-python",
   "name": "python",
   "nbconvert_exporter": "python",
   "pygments_lexer": "ipython3",
   "version": "3.11.1"
  }
 },
 "nbformat": 4,
 "nbformat_minor": 5
}
